{
 "cells": [
  {
   "cell_type": "code",
   "execution_count": null,
   "metadata": {},
   "outputs": [],
   "source": [
    "from utils import import_dataset\n",
    "import numpy as np\n",
    "import pandas as pd"
   ]
  },
  {
   "cell_type": "code",
   "execution_count": null,
   "metadata": {
    "scrolled": true
   },
   "outputs": [],
   "source": [
    "from keras.models import Model,Sequential,save_model\n",
    "from keras.layers import Input,Dense,Conv2D,MaxPooling2D,Flatten,Dropout\n",
    "from keras.optimizers import Adam\n",
    "from keras.callbacks import ModelCheckpoint"
   ]
  },
  {
   "cell_type": "code",
   "execution_count": null,
   "metadata": {},
   "outputs": [],
   "source": [
    "N_Channels=3\n",
    "Final_length=70\n",
    "Final_breadth=200"
   ]
  },
  {
   "cell_type": "code",
   "execution_count": null,
   "metadata": {},
   "outputs": [],
   "source": [
    "INPUT_SHAPE=(Final_length,Final_breadth,N_Channels)\n",
    "data_x,data_y_angle,data_y_throttle=import_dataset()"
   ]
  },
  {
   "cell_type": "code",
   "execution_count": null,
   "metadata": {},
   "outputs": [],
   "source": [
    "data_x,data_y_angle,data_y_throttle=shuffle(data_x,data_y_angle,data_y_throttle)"
   ]
  },
  {
   "cell_type": "code",
   "execution_count": null,
   "metadata": {},
   "outputs": [],
   "source": [
    "split=int(0.85*data_x.shape[0])\n",
    "X_train=data_x[:split,:,:,:]\n",
    "Y_train_a=data_y_angle[:split]\n",
    "Y_train_t=data_y_throttle[:split]\n",
    "X_test=data_x[split:,:,:,:]\n",
    "Y_test_a=data_y_angle[split:]\n",
    "Y_test_t=data_y_throttle[split:]\n",
    "X_test/=255.0\n",
    "X_train/=255.0"
   ]
  },
  {
   "cell_type": "code",
   "execution_count": null,
   "metadata": {},
   "outputs": [],
   "source": [
    "inp=Input(shape=INPUT_SHAPE)\n",
    "c1=Conv2D(filters=128,strides=(2,2),input_shape=INPUT_SHAPE,kernel_size=(3,3),activation=\"relu\")\n",
    "c2=Conv2D(filters=64,kernel_size=(3,3),activation=\"relu\")\n",
    "c3=AveragePooling2D()\n",
    "c4=Conv2D(filters=48,kernel_size=(3,3),activation=\"relu\")\n",
    "c5=AveragePooling2D()\n",
    "c6=Conv2D(filters=40,kernel_size=(3,3),activation=\"relu\")\n",
    "c7=AveragePooling2D()\n",
    "c8=Dropout(0.6)\n",
    "c9=Flatten()\n",
    "c10=Dense(500,activation=\"relu\")\n",
    "c11=Dense(250,activation=\"relu\")\n",
    "c12=Dense(100,activation=\"relu\")\n",
    "c13=Dense(50,activation=\"relu\")\n",
    "c14=Dense(25,activation=\"relu\")\n",
    "c15=Dense(10,activation=\"relu\")\n",
    "c16=Dense(1)\n",
    "c17=Dense(1)\n",
    "out1=c16(c15(c14(c13(c12(c11(c10(c9(c8(c7(c6(c5(c4(c3(c2(c1(inp))))))))))))))))\n",
    "out2=c17(c15(c14(c13(c12(c11(c10(c9(c8(c7(c6(c5(c4(c3(c2(c1(inp))))))))))))))))\n",
    "model=Model(inputs=[inp],outputs=[out1,out2])\n",
    "model.summary()"
   ]
  },
  {
   "cell_type": "code",
   "execution_count": null,
   "metadata": {},
   "outputs": [],
   "source": [
    "model.compile(optimizer=Adam(lr=0.0001),loss=\"mse\")"
   ]
  },
  {
   "cell_type": "code",
   "execution_count": null,
   "metadata": {},
   "outputs": [],
   "source": [
    "checkpoint = ModelCheckpoint('modelv6_{val_loss:.4f}.h5',\n",
    "                                 monitor='val_loss',\n",
    "                                 verbose=0,\n",
    "                                 save_best_only=True,\n",
    "                                 mode='auto')"
   ]
  },
  {
   "cell_type": "code",
   "execution_count": null,
   "metadata": {
    "scrolled": false
   },
   "outputs": [],
   "source": [
    "model.fit(X_train,[Y_train_a,Y_train_t],batch_size=16,epochs=35,validation_data=[X_test,[Y_test_a,Y_test_t]],callbacks=[checkpoint],shuffle=True)"
   ]
  },
  {
   "cell_type": "code",
   "execution_count": null,
   "metadata": {},
   "outputs": [],
   "source": []
  }
 ],
 "metadata": {
  "kernelspec": {
   "display_name": "Python 3",
   "language": "python",
   "name": "python3"
  },
  "language_info": {
   "codemirror_mode": {
    "name": "ipython",
    "version": 3
   },
   "file_extension": ".py",
   "mimetype": "text/x-python",
   "name": "python",
   "nbconvert_exporter": "python",
   "pygments_lexer": "ipython3",
   "version": "3.6.3"
  }
 },
 "nbformat": 4,
 "nbformat_minor": 2
}
