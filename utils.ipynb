{
 "cells": [
  {
   "cell_type": "code",
   "execution_count": 1,
   "metadata": {},
   "outputs": [],
   "source": [
    "import cv2\n",
    "import numpy as np\n",
    "import matplotlib.pyplot as plt\n",
    "import pandas as pd"
   ]
  },
  {
   "cell_type": "code",
   "execution_count": 3,
   "metadata": {},
   "outputs": [],
   "source": [
    "def read_image(path):\n",
    "    image=cv2.imread(path)\n",
    "    image=cv2.cvtColor(image,cv2.COLOR_BGR2RGB)\n",
    "    return image"
   ]
  },
  {
   "cell_type": "code",
   "execution_count": 4,
   "metadata": {},
   "outputs": [],
   "source": [
    "def resize(image,Final_length,Final_breadth):\n",
    "    image=cv2.resize(image,(Final_breadth,Final_length))\n",
    "    return image"
   ]
  },
  {
   "cell_type": "code",
   "execution_count": 5,
   "metadata": {},
   "outputs": [],
   "source": [
    "def flip(image,angle):\n",
    "    r=np.random.randint(1,3)\n",
    "    if r==2:\n",
    "        image=np.flip(image,1)\n",
    "        angle=angle*(-1)\n",
    "    return image,angle"
   ]
  },
  {
   "cell_type": "code",
   "execution_count": 6,
   "metadata": {},
   "outputs": [],
   "source": [
    "def choose_image(images,angle):\n",
    "    r=np.random.randint(0,3)\n",
    "    image_path=images[r]\n",
    "    if r==2:\n",
    "        angle=angle-0.2\n",
    "    elif r==1:                      ##left\n",
    "        angle=angle+0.2\n",
    "    return image_path,angle"
   ]
  },
  {
   "cell_type": "code",
   "execution_count": 7,
   "metadata": {},
   "outputs": [],
   "source": [
    "def process_image(image_path,angle):\n",
    "    image=read_image(image_path)\n",
    "    image=image[60:-20,:,:]\n",
    "    flipped_image,angle=flip(image,angle)\n",
    "    resized_image=resize(flipped_image,Final_length,Final_breadth)\n",
    "    return resized_image,angle"
   ]
  },
  {
   "cell_type": "code",
   "execution_count": 8,
   "metadata": {},
   "outputs": [],
   "source": [
    "def process(image):\n",
    "    image=image[60:-20,:,:]\n",
    "    resized_image=resize(image,Final_length,Final_breadth)\n",
    "    return resized_image"
   ]
  },
  {
   "cell_type": "code",
   "execution_count": 9,
   "metadata": {},
   "outputs": [],
   "source": [
    "N_Channels=3\n",
    "Final_length=70\n",
    "Final_breadth=200"
   ]
  },
  {
   "cell_type": "code",
   "execution_count": 10,
   "metadata": {},
   "outputs": [],
   "source": [
    "def import_dataset():\n",
    "    dataset=pd.read_csv(\"driving_log.csv\",header=None,names=['center','left','right','steering','throttle','2','speed'])\n",
    "    images=dataset[['center','left','right']].values\n",
    "    angles=dataset['steering'].values\n",
    "    throttle=dataset['throttle'].values\n",
    "    X_train=np.zeros((images.shape[0],Final_length,Final_breadth,N_Channels))\n",
    "    Y_train_angle=np.zeros((images.shape[0]))\n",
    "    Y_train_throttle=np.zeros((images.shape[0]))    \n",
    "    for i in range(images.shape[0]):\n",
    "        image_path,angle=choose_image(images[i],angles[i])\n",
    "        image,angle=process_image(image_path,angle)\n",
    "        X_train[i]=image\n",
    "        Y_train_angle[i]=angle\n",
    "        Y_train_throttle[i]=throttle[i]\n",
    "    return X_train,Y_train_angle,Y_train_throttle"
   ]
  },
  {
   "cell_type": "code",
   "execution_count": null,
   "metadata": {},
   "outputs": [],
   "source": []
  }
 ],
 "metadata": {
  "kernelspec": {
   "display_name": "Python 3",
   "language": "python",
   "name": "python3"
  },
  "language_info": {
   "codemirror_mode": {
    "name": "ipython",
    "version": 3
   },
   "file_extension": ".py",
   "mimetype": "text/x-python",
   "name": "python",
   "nbconvert_exporter": "python",
   "pygments_lexer": "ipython3",
   "version": "3.6.3"
  }
 },
 "nbformat": 4,
 "nbformat_minor": 2
}
